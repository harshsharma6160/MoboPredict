{
 "cells": [
  {
   "cell_type": "markdown",
   "metadata": {
    "colab_type": "text",
    "id": "eaNq4Gmi9Qic"
   },
   "source": [
    "## Advance in Python - Part 2 (Data Structures in Python - Dictionary)\n",
    "#### Topics\n",
    "1. Data Structures in Python - Dictionary\n",
    "    - Dictionary declaration\n",
    "    - Access dictionary item\n",
    "    - Traverse dictionary\n",
    "    - Add, update, deleting element from Dictionary\n",
    "    - Operations on List: Sum/Average, Min/Max, Merge, Search\n",
    "    - Nested Dictionary\n",
    "    - Use of copy() function\n",
    "\n",
    "##### Note: \n",
    "1. First Clean the Evironment (Go to \"Kernel\" Menu --> \"Restart & Clean Output\"\n",
    "2. To execute the code --> Click on a cell and press cntrl + enter key"
   ]
  },
  {
   "cell_type": "markdown",
   "metadata": {
    "colab_type": "text",
    "id": "y3VrvYW2-6Ka"
   },
   "source": [
    "## 1: Data Structure - Dictionary\n",
    "##### Key-value pair"
   ]
  },
  {
   "cell_type": "markdown",
   "metadata": {},
   "source": [
    "### 1.1: Dictionary declaration"
   ]
  },
  {
   "cell_type": "code",
   "execution_count": 24,
   "metadata": {
    "colab": {
     "base_uri": "https://localhost:8080/",
     "height": 35
    },
    "colab_type": "code",
    "executionInfo": {
     "elapsed": 1478,
     "status": "ok",
     "timestamp": 1590401820703,
     "user": {
      "displayName": "Prashant Singh Rana",
      "photoUrl": "https://lh3.googleusercontent.com/a-/AOh14Gi2FtAQLyyuUB_MxR3VjjpuNfLOCJ-1R_qmOCsPLg=s64",
      "userId": "12245731978561464083"
     },
     "user_tz": -330
    },
    "id": "eikxCFcN-7AR",
    "outputId": "69d3d3da-b19c-4b8d-b9b8-e78dfcdec3e2",
    "scrolled": true
   },
   "outputs": [
    {
     "name": "stdout",
     "output_type": "stream",
     "text": [
      "Dictionary     --> {1: 8.9, 2: 5.6, 4: 6.7, 7: 9.1, 8: 5.3}\n",
      "Total Elements --> 5\n",
      "Type of Object --> <class 'dict'>\n"
     ]
    }
   ],
   "source": [
    "#------------------------------------------------------------------------\n",
    "# 1.1: Dictionary declaration\n",
    "#------------------------------------------------------------------------\n",
    "CGPA = {1:8.9, 2:5.6, 4:6.7, 7:9.1, 8:5.3} # Key:Value \n",
    "\n",
    "print (\"Dictionary     -->\", CGPA)\n",
    "print (\"Total Elements -->\", len(CGPA))\n",
    "print (\"Type of Object -->\", type(CGPA))\n"
   ]
  },
  {
   "cell_type": "markdown",
   "metadata": {},
   "source": [
    "### 1.2: Access Dictionary item"
   ]
  },
  {
   "cell_type": "code",
   "execution_count": 25,
   "metadata": {},
   "outputs": [
    {
     "name": "stdout",
     "output_type": "stream",
     "text": [
      "Dictionary     --> {1: 8.9, 2: 5.6, 4: 6.7, 7: 9.1, 8: 5.3}\n",
      "Total Elements --> 5\n",
      "\n",
      "CGPA of 1 --> 8.9\n",
      "CGPA of 4 --> 6.7\n",
      "CGPA of 7 --> 9.1\n"
     ]
    },
    {
     "ename": "KeyError",
     "evalue": "3",
     "output_type": "error",
     "traceback": [
      "\u001b[1;31m---------------------------------------------------------------------------\u001b[0m",
      "\u001b[1;31mKeyError\u001b[0m                                  Traceback (most recent call last)",
      "\u001b[1;32m<ipython-input-25-ce8a03c12651>\u001b[0m in \u001b[0;36m<module>\u001b[1;34m\u001b[0m\n\u001b[0;32m     10\u001b[0m \u001b[0mprint\u001b[0m \u001b[1;33m(\u001b[0m\u001b[1;34m\"CGPA of 4 -->\"\u001b[0m\u001b[1;33m,\u001b[0m \u001b[0mCGPA\u001b[0m\u001b[1;33m[\u001b[0m\u001b[1;36m4\u001b[0m\u001b[1;33m]\u001b[0m\u001b[1;33m)\u001b[0m\u001b[1;33m\u001b[0m\u001b[1;33m\u001b[0m\u001b[0m\n\u001b[0;32m     11\u001b[0m \u001b[0mprint\u001b[0m \u001b[1;33m(\u001b[0m\u001b[1;34m\"CGPA of 7 -->\"\u001b[0m\u001b[1;33m,\u001b[0m \u001b[0mCGPA\u001b[0m\u001b[1;33m[\u001b[0m\u001b[1;36m7\u001b[0m\u001b[1;33m]\u001b[0m\u001b[1;33m)\u001b[0m\u001b[1;33m\u001b[0m\u001b[1;33m\u001b[0m\u001b[0m\n\u001b[1;32m---> 12\u001b[1;33m \u001b[0mprint\u001b[0m \u001b[1;33m(\u001b[0m\u001b[1;34m\"CGPA of 3 -->\"\u001b[0m\u001b[1;33m,\u001b[0m \u001b[0mCGPA\u001b[0m\u001b[1;33m[\u001b[0m\u001b[1;36m3\u001b[0m\u001b[1;33m]\u001b[0m\u001b[1;33m)\u001b[0m  \u001b[1;31m# Error; Key is not available; Exception should be handled\u001b[0m\u001b[1;33m\u001b[0m\u001b[1;33m\u001b[0m\u001b[0m\n\u001b[0m",
      "\u001b[1;31mKeyError\u001b[0m: 3"
     ]
    }
   ],
   "source": [
    "#------------------------------------------------------------------------\n",
    "# 1.2: Access Dictionary item\n",
    "#------------------------------------------------------------------------\n",
    "CGPA = {1:8.9, 2:5.6, 4:6.7, 7:9.1, 8:5.3}\n",
    "\n",
    "print (\"Dictionary     -->\", CGPA)\n",
    "print (\"Total Elements -->\", len(CGPA))\n",
    "\n",
    "print (\"\\nCGPA of 1 -->\", CGPA[1])  # Pass the Key and you will get value\n",
    "print (\"CGPA of 4 -->\", CGPA[4])\n",
    "print (\"CGPA of 7 -->\", CGPA[7])\n",
    "print (\"CGPA of 3 -->\", CGPA[3])  # Error; Key is not available; Exception should be handled\n"
   ]
  },
  {
   "cell_type": "markdown",
   "metadata": {},
   "source": [
    "### 1.3: Traverse dictionary - Version 1"
   ]
  },
  {
   "cell_type": "code",
   "execution_count": 27,
   "metadata": {},
   "outputs": [
    {
     "name": "stdout",
     "output_type": "stream",
     "text": [
      "CGPA of  1  --> 8.9\n",
      "CGPA of  2  --> 5.6\n",
      "CGPA of  4  --> 6.7\n",
      "CGPA of  7  --> 9.1\n",
      "CGPA of  8  --> 5.3\n"
     ]
    }
   ],
   "source": [
    "#------------------------------------------------------------------------\n",
    "# 1.3: Traverse dictionary - Version 1\n",
    "#------------------------------------------------------------------------\n",
    "CGPA = {1:8.9, 2:5.6, 4:6.7, 7:9.1, 8:5.3}\n",
    "\n",
    "for k in CGPA:\n",
    "    print (\"CGPA of \", k, \" -->\", CGPA[k])"
   ]
  },
  {
   "cell_type": "markdown",
   "metadata": {},
   "source": [
    "### 1.4: Traverse dictionary - Version 2"
   ]
  },
  {
   "cell_type": "code",
   "execution_count": 28,
   "metadata": {},
   "outputs": [
    {
     "name": "stdout",
     "output_type": "stream",
     "text": [
      "Dictionary -->  {'Pratham': 'Delhi', 'Govind': 'Gwalior', 'Anil': 'Morena', 'Pankaj': 'Agra'}\n",
      "\n",
      "Home Town of  Pratham  is  --> Delhi\n",
      "Home Town of  Govind  is  --> Gwalior\n",
      "Home Town of  Anil  is  --> Morena\n",
      "Home Town of  Pankaj  is  --> Agra\n"
     ]
    }
   ],
   "source": [
    "#------------------------------------------------------------------------\n",
    "# 1.4: Traverse dictionary - Version 2\n",
    "#------------------------------------------------------------------------\n",
    "HomeTown = {\"Pratham\":\"Delhi\", \"Govind\":\"Gwalior\", \"Anil\":\"Morena\", \"Pankaj\":\"Agra\"}\n",
    "print (\"Dictionary --> \", HomeTown)\n",
    "\n",
    "print (\"\")\n",
    "for d in HomeTown:\n",
    "    print (\"Home Town of \", d, \" is  -->\", HomeTown[d])\n"
   ]
  },
  {
   "cell_type": "markdown",
   "metadata": {},
   "source": [
    "### 1.5: Getting Keys and Values"
   ]
  },
  {
   "cell_type": "code",
   "execution_count": 30,
   "metadata": {},
   "outputs": [
    {
     "name": "stdout",
     "output_type": "stream",
     "text": [
      "Dictionary --> {1: 8.9, 2: 5.6, 4: 6.7, 7: 9.1, 8: 5.3}\n",
      "\n",
      "Keys       --> dict_keys([1, 2, 4, 7, 8])\n",
      "Values     --> dict_values([8.9, 5.6, 6.7, 9.1, 5.3])\n"
     ]
    }
   ],
   "source": [
    "#------------------------------------------------------------------------\n",
    "# 1.5: Getting Keys and Values\n",
    "#------------------------------------------------------------------------\n",
    "CGPA = {1:8.9, 2:5.6, 4:6.7, 7:9.1, 8:5.3}\n",
    "\n",
    "print (\"Dictionary -->\", CGPA)\n",
    "\n",
    "print (\"\\nKeys       -->\", CGPA.keys())\n",
    "print (\"Values     -->\", CGPA.values())\n"
   ]
  },
  {
   "cell_type": "markdown",
   "metadata": {},
   "source": [
    "### 1.6: Adding element in Dictionary"
   ]
  },
  {
   "cell_type": "code",
   "execution_count": 31,
   "metadata": {},
   "outputs": [
    {
     "name": "stdout",
     "output_type": "stream",
     "text": [
      "Dictionary        --> {1: 8.9, 2: 5.6, 4: 6.7, 7: 9.1, 8: 5.3}\n",
      "\n",
      "After Adding(3)   --> {1: 8.9, 2: 5.6, 4: 6.7, 7: 9.1, 8: 5.3, 3: 8.6}\n",
      "After Adding(9)   --> {1: 8.9, 2: 5.6, 4: 6.7, 7: 9.1, 8: 5.3, 3: 8.6, 9: 7.6}\n"
     ]
    }
   ],
   "source": [
    "#------------------------------------------------------------------------\n",
    "# 1.6: Adding element in Dictionary\n",
    "#------------------------------------------------------------------------\n",
    "CGPA = {1:8.9, 2:5.6, 4:6.7, 7:9.1, 8:5.3}\n",
    "print (\"Dictionary        -->\", CGPA)\n",
    "\n",
    "CGPA[3] = 8.6            # Adding\n",
    "print (\"\\nAfter Adding(3)   -->\", CGPA)\n",
    "\n",
    "CGPA[9] = 7.6            # Adding\n",
    "print (\"After Adding(9)   -->\", CGPA)\n",
    "\n",
    "# Order or Sequence don't matter\n"
   ]
  },
  {
   "cell_type": "markdown",
   "metadata": {},
   "source": [
    "### 1.7: Updating element in Dictionary"
   ]
  },
  {
   "cell_type": "code",
   "execution_count": 32,
   "metadata": {},
   "outputs": [
    {
     "name": "stdout",
     "output_type": "stream",
     "text": [
      "Dictionary        --> {1: 8.9, 2: 5.6, 4: 6.7, 7: 9.1, 8: 5.3}\n",
      "\n",
      "After Updating(4) --> {1: 8.9, 2: 5.6, 4: 9.2, 7: 9.1, 8: 5.3}\n",
      "After Adding(10)  --> {1: 8.9, 2: 5.6, 4: 9.2, 7: 9.1, 8: 5.3, 10: 8.8}\n"
     ]
    }
   ],
   "source": [
    "#------------------------------------------------------------------------\n",
    "# 1.7: Updating element in Dictionary\n",
    "#------------------------------------------------------------------------\n",
    "CGPA = {1:8.9, 2:5.6, 4:6.7, 7:9.1, 8:5.3}\n",
    "print (\"Dictionary        -->\", CGPA)\n",
    "\n",
    "CGPA[4] = 9.2            # Updating\n",
    "print (\"\\nAfter Updating(4) -->\", CGPA)\n",
    "\n",
    "CGPA[10] = 8.8            # Adding\n",
    "print (\"After Adding(10)  -->\", CGPA)\n"
   ]
  },
  {
   "cell_type": "markdown",
   "metadata": {},
   "source": [
    "### 1.8: Deleting element from Dictionary"
   ]
  },
  {
   "cell_type": "code",
   "execution_count": 33,
   "metadata": {},
   "outputs": [
    {
     "name": "stdout",
     "output_type": "stream",
     "text": [
      "Dictionary         --> {1: 8.9, 2: 5.6, 4: 6.7, 7: 9.1, 8: 5.3}\n",
      "\n",
      "After Deleting (1) --> {2: 5.6, 4: 6.7, 7: 9.1, 8: 5.3}\n",
      "After Deleting (8) --> {2: 5.6, 4: 6.7, 7: 9.1}\n"
     ]
    }
   ],
   "source": [
    "#------------------------------------------------------------------------\n",
    "# 1.8: Deleting element from Dictionary\n",
    "#------------------------------------------------------------------------\n",
    "CGPA = {1:8.9, 2:5.6, 4:6.7, 7:9.1, 8:5.3}\n",
    "print (\"Dictionary         -->\", CGPA)\n",
    "\n",
    "del CGPA[1]              # Deleting Key 1\n",
    "print (\"\\nAfter Deleting (1) -->\", CGPA)\n",
    "\n",
    "del CGPA[8]              # Deleting Key 8\n",
    "print (\"After Deleting (8) -->\", CGPA)\n"
   ]
  },
  {
   "cell_type": "markdown",
   "metadata": {},
   "source": [
    "### 1.9: Clear elements in Dictionary"
   ]
  },
  {
   "cell_type": "code",
   "execution_count": 34,
   "metadata": {},
   "outputs": [
    {
     "name": "stdout",
     "output_type": "stream",
     "text": [
      "Dictionary             --> {1: 8.9, 2: 5.6, 4: 6.7, 7: 9.1, 8: 5.3}\n",
      "\n",
      "Dictionary after clear --> {}\n"
     ]
    }
   ],
   "source": [
    "#------------------------------------------------------------------------\n",
    "# 1.9: Clear elements in Dictionary\n",
    "#------------------------------------------------------------------------\n",
    "CGPA = {1:8.9, 2:5.6, 4:6.7, 7:9.1, 8:5.3}\n",
    "print (\"Dictionary             -->\", CGPA)\n",
    "\n",
    "CGPA.clear()            # Deleting all elements\n",
    "print (\"\\nDictionary after clear -->\", CGPA)\n"
   ]
  },
  {
   "cell_type": "markdown",
   "metadata": {},
   "source": [
    "### 1.10: Deleting Dictionary"
   ]
  },
  {
   "cell_type": "code",
   "execution_count": 35,
   "metadata": {},
   "outputs": [
    {
     "name": "stdout",
     "output_type": "stream",
     "text": [
      "Dictionary         --> {1: 8.9, 2: 5.6, 4: 6.7, 7: 9.1, 8: 5.3}\n"
     ]
    },
    {
     "ename": "NameError",
     "evalue": "name 'CGPA' is not defined",
     "output_type": "error",
     "traceback": [
      "\u001b[1;31m---------------------------------------------------------------------------\u001b[0m",
      "\u001b[1;31mNameError\u001b[0m                                 Traceback (most recent call last)",
      "\u001b[1;32m<ipython-input-35-c0178de3546f>\u001b[0m in \u001b[0;36m<module>\u001b[1;34m\u001b[0m\n\u001b[0;32m      6\u001b[0m \u001b[1;33m\u001b[0m\u001b[0m\n\u001b[0;32m      7\u001b[0m \u001b[1;32mdel\u001b[0m \u001b[0mCGPA\u001b[0m\u001b[1;33m\u001b[0m\u001b[1;33m\u001b[0m\u001b[0m\n\u001b[1;32m----> 8\u001b[1;33m \u001b[0mprint\u001b[0m \u001b[1;33m(\u001b[0m\u001b[1;34m\"Dictionary after delete -->\"\u001b[0m\u001b[1;33m,\u001b[0m \u001b[0mCGPA\u001b[0m\u001b[1;33m)\u001b[0m  \u001b[1;31m# Error\u001b[0m\u001b[1;33m\u001b[0m\u001b[1;33m\u001b[0m\u001b[0m\n\u001b[0m\u001b[0;32m      9\u001b[0m                                               \u001b[1;31m# Dictionary is deleted and still want to print\u001b[0m\u001b[1;33m\u001b[0m\u001b[1;33m\u001b[0m\u001b[1;33m\u001b[0m\u001b[0m\n\u001b[0;32m     10\u001b[0m                                               \u001b[1;31m# Exception should me handle\u001b[0m\u001b[1;33m\u001b[0m\u001b[1;33m\u001b[0m\u001b[1;33m\u001b[0m\u001b[0m\n",
      "\u001b[1;31mNameError\u001b[0m: name 'CGPA' is not defined"
     ]
    }
   ],
   "source": [
    "#------------------------------------------------------------------------\n",
    "# 1.10: Deleting Dictionary\n",
    "#------------------------------------------------------------------------\n",
    "CGPA = {1:8.9, 2:5.6, 4:6.7, 7:9.1, 8:5.3}\n",
    "print (\"Dictionary         -->\", CGPA)\n",
    "\n",
    "del CGPA\n",
    "print (\"Dictionary after delete -->\", CGPA)  # Error\n",
    "                                              # Dictionary is deleted and still want to print\n",
    "                                              # Exception should me handle\n"
   ]
  },
  {
   "cell_type": "markdown",
   "metadata": {},
   "source": [
    "### 1.11: Sum/Average all values of Dictionary - Version1"
   ]
  },
  {
   "cell_type": "code",
   "execution_count": 37,
   "metadata": {},
   "outputs": [
    {
     "name": "stdout",
     "output_type": "stream",
     "text": [
      "Dictionary --> {1: 8.9, 2: 5.6, 4: 6.7, 7: 9.1, 8: 5.3}\n",
      "\n",
      "Sum        --> 35.599999999999994\n",
      "Average    --> 7.119999999999999\n",
      "Average    --> 7.0\n"
     ]
    }
   ],
   "source": [
    "#------------------------------------------------------------------------\n",
    "# 1.11: Sum/Average all values of Dictionary - Version1\n",
    "#------------------------------------------------------------------------\n",
    "CGPA = {1:8.9, 2:5.6, 4:6.7, 7:9.1, 8:5.3}\n",
    "print (\"Dictionary -->\", CGPA)\n",
    "\n",
    "s = 0\n",
    "for i in CGPA:\n",
    "    s = s + CGPA[i]\n",
    "\n",
    "print (\"\\nSum        -->\", s)\n",
    "print (\"Average    -->\", s/len(CGPA))\n",
    "print (\"Average    -->\", s//len(CGPA))\n"
   ]
  },
  {
   "cell_type": "markdown",
   "metadata": {},
   "source": [
    "### 1.12: Sum/Average all values of Dictionary - Version2"
   ]
  },
  {
   "cell_type": "code",
   "execution_count": 38,
   "metadata": {},
   "outputs": [
    {
     "name": "stdout",
     "output_type": "stream",
     "text": [
      "Dictionary -->  {1: 8.9, 2: 5.6, 4: 6.7, 7: 9.1, 8: 5.3}\n",
      "\n",
      "Sum        --> 35.599999999999994\n",
      "Average    --> 7.119999999999999\n",
      "Average    --> 7.0\n"
     ]
    }
   ],
   "source": [
    "#------------------------------------------------------------------------\n",
    "# 1.12: Sum/Average all values of Dictionary - Version2\n",
    "#------------------------------------------------------------------------\n",
    "CGPA = {1:8.9, 2:5.6, 4:6.7, 7:9.1, 8:5.3}\n",
    "print (\"Dictionary --> \", CGPA)\n",
    "\n",
    "print (\"\\nSum        -->\", sum(CGPA.values()))\n",
    "print (\"Average    -->\", sum(CGPA.values())/len(CGPA))\n",
    "print (\"Average    -->\", sum(CGPA.values())//len(CGPA))\n"
   ]
  },
  {
   "cell_type": "markdown",
   "metadata": {},
   "source": [
    "### 1.13: Min/Max values in the Dictionary"
   ]
  },
  {
   "cell_type": "code",
   "execution_count": 39,
   "metadata": {},
   "outputs": [
    {
     "name": "stdout",
     "output_type": "stream",
     "text": [
      "Dictionary --> {1: 8.9, 2: 5.6, 4: 6.7, 7: 9.1, 8: 5.3}\n",
      "\n",
      "Min value  --> 5.3\n",
      "Max value  --> 9.1\n"
     ]
    }
   ],
   "source": [
    "#------------------------------------------------------------------------\n",
    "# 1.13: Min/Max values in the Dictionary\n",
    "#------------------------------------------------------------------------\n",
    "CGPA = {1:8.9, 2:5.6, 4:6.7, 7:9.1, 8:5.3}\n",
    "print (\"Dictionary -->\", CGPA)\n",
    "\n",
    "print (\"\\nMin value  -->\", min(CGPA.values()))\n",
    "print (\"Max value  -->\", max(CGPA.values()))\n"
   ]
  },
  {
   "cell_type": "markdown",
   "metadata": {},
   "source": [
    "### 1.14: Find key having min/max value in the Dictionary"
   ]
  },
  {
   "cell_type": "code",
   "execution_count": 40,
   "metadata": {},
   "outputs": [
    {
     "name": "stdout",
     "output_type": "stream",
     "text": [
      "Dictionary -->  {1: 8.9, 2: 5.6, 4: 6.7, 7: 9.1, 8: 5.3}\n",
      "\n",
      "Min value  --> 5.3\n",
      "Max value  --> 9.1\n",
      "\n",
      "Key having Min value  --> 8\n",
      "Key having Max value  --> 7\n"
     ]
    }
   ],
   "source": [
    "#------------------------------------------------------------------------\n",
    "# 1.14: Find key having min/max value in the Dictionary\n",
    "#------------------------------------------------------------------------\n",
    "CGPA = {1:8.9, 2:5.6, 4:6.7, 7:9.1, 8:5.3}\n",
    "print (\"Dictionary --> \", CGPA)\n",
    "\n",
    "print (\"\\nMin value  -->\", min(CGPA.values()))\n",
    "print (\"Max value  -->\", max(CGPA.values()))\n",
    "\n",
    "print (\"\\nKey having Min value  -->\", min(CGPA, key = CGPA.get))\n",
    "print (\"Key having Max value  -->\", max(CGPA, key = CGPA.get))\n"
   ]
  },
  {
   "cell_type": "markdown",
   "metadata": {},
   "source": [
    "### 1.15: Find key for any value in the Dictionary"
   ]
  },
  {
   "cell_type": "code",
   "execution_count": 41,
   "metadata": {},
   "outputs": [
    {
     "name": "stdout",
     "output_type": "stream",
     "text": [
      "Dictionary       --> {1: 8.9, 2: 5.6, 4: 6.7, 7: 9.1, 8: 5.3}\n",
      "\n",
      "Value = 5.6; Key --> 2\n",
      "Value = 9.1; Key --> 7\n",
      "\n",
      "Value = 5.6; Key --> 2\n",
      "Value = 9.1; Key --> 7\n"
     ]
    }
   ],
   "source": [
    "#------------------------------------------------------------------------\n",
    "# 1.15: Find key for any value in the Dictionary\n",
    "#------------------------------------------------------------------------\n",
    "CGPA = {1:8.9, 2:5.6, 4:6.7, 7:9.1, 8:5.3}\n",
    "print (\"Dictionary       -->\", CGPA)\n",
    "\n",
    "# List out keys and values separately \n",
    "keyList = list(CGPA.keys()) \n",
    "valList = list(CGPA.values()) \n",
    "\n",
    "print (\"\\nValue = 5.6; Key -->\", keyList[valList.index(5.6)])\n",
    "print (\"Value = 9.1; Key -->\", keyList[valList.index(9.1)])\n",
    "\n",
    "# one-liner \n",
    "print (\"\\nValue = 5.6; Key -->\",list(CGPA.keys())[list(CGPA.values()).index(5.6)])\n",
    "print (\"Value = 9.1; Key -->\",list(CGPA.keys())[list(CGPA.values()).index(9.1)])\n"
   ]
  },
  {
   "cell_type": "markdown",
   "metadata": {},
   "source": [
    "### 1.16: Searching key in the Dictionary - Version 1"
   ]
  },
  {
   "cell_type": "code",
   "execution_count": 14,
   "metadata": {},
   "outputs": [
    {
     "name": "stdout",
     "output_type": "stream",
     "text": [
      "Dictionary       --> {1: 8.9, 2: 5.6, 4: 6.7, 7: 9.1, 8: 5.3}\n",
      "\n",
      "Is Key 2 Present --> True\n",
      "Is Key 9 Present --> False\n"
     ]
    }
   ],
   "source": [
    "#------------------------------------------------------------------------\n",
    "# 1.16: Searching key in the Dictionary - Version 1\n",
    "#------------------------------------------------------------------------\n",
    "CGPA = {1:8.9, 2:5.6, 4:6.7, 7:9.1, 8:5.3}\n",
    "print (\"Dictionary       -->\", CGPA)\n",
    "\n",
    "print (\"\\nIs Key 2 Present -->\", 2 in CGPA)\n",
    "print (\"Is Key 9 Present -->\", 9 in CGPA)\n"
   ]
  },
  {
   "cell_type": "markdown",
   "metadata": {},
   "source": [
    "### 1.17: Searching key in the Dictionary - Version 2"
   ]
  },
  {
   "cell_type": "code",
   "execution_count": 15,
   "metadata": {},
   "outputs": [
    {
     "name": "stdout",
     "output_type": "stream",
     "text": [
      "Dictionary       --> {1: 8.9, 2: 5.6, 4: 6.7, 7: 9.1, 8: 5.3}\n",
      "\n",
      "Is Key 2 Present --> True\n",
      "Is Key 9 Present --> False\n"
     ]
    }
   ],
   "source": [
    "#------------------------------------------------------------------------\n",
    "# 1.17: Searching key in the Dictionary - Version 2\n",
    "#------------------------------------------------------------------------\n",
    "CGPA = {1:8.9, 2:5.6, 4:6.7, 7:9.1, 8:5.3}\n",
    "print (\"Dictionary       -->\", CGPA)\n",
    "\n",
    "print (\"\\nIs Key 2 Present -->\", 2 in CGPA.keys())\n",
    "print (\"Is Key 9 Present -->\", 9 in CGPA.keys())\n"
   ]
  },
  {
   "cell_type": "markdown",
   "metadata": {},
   "source": [
    "### 1.18: Searching value in the Dictionary"
   ]
  },
  {
   "cell_type": "code",
   "execution_count": 16,
   "metadata": {},
   "outputs": [
    {
     "name": "stdout",
     "output_type": "stream",
     "text": [
      "Dictionary         --> {1: 8.9, 2: 5.6, 4: 6.7, 7: 9.1, 8: 5.3}\n",
      "\n",
      "Is Key 5.6 Present --> True\n",
      "Is Key 5.7 Present --> False\n"
     ]
    }
   ],
   "source": [
    "#------------------------------------------------------------------------\n",
    "# 1.18: Searching value in the Dictionary\n",
    "#------------------------------------------------------------------------\n",
    "CGPA = {1:8.9, 2:5.6, 4:6.7, 7:9.1, 8:5.3}\n",
    "print (\"Dictionary         -->\", CGPA)\n",
    "\n",
    "print (\"\\nIs Key 5.6 Present -->\", 5.6 in CGPA.values())\n",
    "print (\"Is Key 5.7 Present -->\", 5.7 in CGPA.values())\n"
   ]
  },
  {
   "cell_type": "markdown",
   "metadata": {},
   "source": [
    "### 1.19: Increment the every value of Dictionary by n"
   ]
  },
  {
   "cell_type": "code",
   "execution_count": 17,
   "metadata": {},
   "outputs": [
    {
     "name": "stdout",
     "output_type": "stream",
     "text": [
      "Dictionary         --> {1: 8.9, 2: 5.6, 4: 6.7, 7: 9.1, 8: 5.3}\n",
      "\n",
      "Updated Dictionary --> {1: 18.9, 2: 15.6, 4: 16.7, 7: 19.1, 8: 15.3}\n"
     ]
    }
   ],
   "source": [
    "#------------------------------------------------------------------------\n",
    "# 1.19: Increment the every value of Dictionary by n\n",
    "#------------------------------------------------------------------------\n",
    "CGPA = {1:8.9, 2:5.6, 4:6.7, 7:9.1, 8:5.3}\n",
    "print (\"Dictionary         -->\", CGPA)\n",
    "n = 10\n",
    "\n",
    "for i in CGPA:\n",
    "    CGPA[i] = CGPA[i] + n\n",
    "print (\"\\nUpdated Dictionary -->\", CGPA)\n"
   ]
  },
  {
   "cell_type": "markdown",
   "metadata": {},
   "source": [
    "### 1.20: Merge Dictionary"
   ]
  },
  {
   "cell_type": "code",
   "execution_count": 18,
   "metadata": {},
   "outputs": [
    {
     "name": "stdout",
     "output_type": "stream",
     "text": [
      "CGPA               --> {1: 8.9, 2: 5.6, 4: 9.7}\n",
      "CGPA1              --> {4: 6.7, 7: 9.1, 8: 5.3}\n",
      "\n",
      "CGPA1 after update --> {4: 9.7, 7: 9.1, 8: 5.3, 1: 8.9, 2: 5.6}\n"
     ]
    }
   ],
   "source": [
    "#------------------------------------------------------------------------\n",
    "# 1.20: Merge Dictionary\n",
    "#------------------------------------------------------------------------\n",
    "# Example 1\n",
    "CGPA = {1:8.9, 2:5.6, 4:9.7}\n",
    "CGPA1= {4:6.7, 7:9.1, 8:5.3}\n",
    "print (\"CGPA               -->\", CGPA)\n",
    "print (\"CGPA1              -->\", CGPA1)\n",
    "\n",
    "CGPA1.update(CGPA)\n",
    "\n",
    "print (\"\\nCGPA1 after update -->\", CGPA1)\n"
   ]
  },
  {
   "cell_type": "code",
   "execution_count": 19,
   "metadata": {},
   "outputs": [
    {
     "name": "stdout",
     "output_type": "stream",
     "text": [
      "CGPA              --> {1: 8.9, 2: 5.6, 4: 9.7}\n",
      "CGPA1             --> {4: 6.7, 7: 9.1, 8: 5.3}\n",
      "\n",
      "CGPA after update --> {1: 8.9, 2: 5.6, 4: 6.7, 7: 9.1, 8: 5.3}\n"
     ]
    }
   ],
   "source": [
    "# Example 2\n",
    "CGPA = {1:8.9, 2:5.6, 4:9.7}\n",
    "CGPA1= {4:6.7, 7:9.1, 8:5.3}\n",
    "\n",
    "print (\"CGPA              -->\", CGPA)\n",
    "print (\"CGPA1             -->\", CGPA1)\n",
    "\n",
    "CGPA.update(CGPA1)\n",
    "print (\"\\nCGPA after update -->\", CGPA)"
   ]
  },
  {
   "cell_type": "markdown",
   "metadata": {},
   "source": [
    "### 1.21: Use of copy() function"
   ]
  },
  {
   "cell_type": "code",
   "execution_count": 20,
   "metadata": {},
   "outputs": [
    {
     "name": "stdout",
     "output_type": "stream",
     "text": [
      "CGPA              --> {1: 8.9, 2: 5.6, 4: 6.7, 7: 9.1, 8: 5.3}\n",
      "CGPA after upate  --> {1: 7.0, 2: 5.6, 4: 6.7, 7: 9.1, 8: 5.3}\n",
      "CGPA1 after upate --> {1: 7.0, 2: 5.6, 4: 6.7, 7: 9.1, 8: 5.3}\n"
     ]
    }
   ],
   "source": [
    "#------------------------------------------------------------------------\n",
    "# 1.21: Use of copy() function\n",
    "#------------------------------------------------------------------------\n",
    "# Example 1\n",
    "CGPA = {1:8.9, 2:5.6, 4:6.7, 7:9.1, 8:5.3}\n",
    "print (\"CGPA              -->\", CGPA)\n",
    "\n",
    "CGPA1 = CGPA                            # Pointing to the same memory location as L\n",
    "CGPA[1] = 7.0\n",
    "\n",
    "print (\"CGPA after upate  -->\", CGPA)\n",
    "print (\"CGPA1 after upate -->\", CGPA1)\n"
   ]
  },
  {
   "cell_type": "code",
   "execution_count": 21,
   "metadata": {},
   "outputs": [
    {
     "name": "stdout",
     "output_type": "stream",
     "text": [
      "CGPA              --> {1: 8.9, 2: 5.6, 4: 6.7, 7: 9.1, 8: 5.3}\n",
      "CGPA after upate  --> {1: 7.0, 2: 5.6, 4: 6.7, 7: 9.1, 8: 5.3}\n",
      "CGPA1 after upate --> {1: 8.9, 2: 5.6, 4: 6.7, 7: 9.1, 8: 5.3}\n"
     ]
    }
   ],
   "source": [
    "# Example 2\n",
    "import copy\n",
    "CGPA = {1:8.9, 2:5.6, 4:6.7, 7:9.1, 8:5.3}\n",
    "print (\"CGPA              -->\", CGPA)\n",
    "\n",
    "CGPA1 = copy.copy(CGPA)                 # New memory is allocated\n",
    "#CGPA1 = copy.deepcopy(CGPA)                 # New memory is allocated\n",
    "CGPA[1] = 7.0\n",
    "\n",
    "print (\"CGPA after upate  -->\", CGPA)\n",
    "print (\"CGPA1 after upate -->\", CGPA1)\n"
   ]
  },
  {
   "cell_type": "markdown",
   "metadata": {},
   "source": [
    "### 1.22: Nested Dictionary"
   ]
  },
  {
   "cell_type": "code",
   "execution_count": 22,
   "metadata": {},
   "outputs": [
    {
     "name": "stdout",
     "output_type": "stream",
     "text": [
      "Student --> {1: {'name': 'Roham', 'age': '19', 'gender': 'Male'}, 2: {'name': 'Monika', 'age': '20', 'gender': 'Female'}}\n"
     ]
    }
   ],
   "source": [
    "#------------------------------------------------------------------------\n",
    "# 1.22: Nested Dictionary\n",
    "#------------------------------------------------------------------------\n",
    "# Example 1\n",
    "student = {1: {'name': 'Roham', 'age': '19', 'gender': 'Male'},\n",
    "          2: {'name': 'Monika', 'age': '20', 'gender': 'Female'}}\n",
    "\n",
    "print(\"Student -->\", student)\n"
   ]
  },
  {
   "cell_type": "code",
   "execution_count": 23,
   "metadata": {},
   "outputs": [
    {
     "name": "stdout",
     "output_type": "stream",
     "text": [
      "student[1]['name']   --> Roham\n",
      "student[1]['age']    --> 19\n",
      "student[1]['gender'] --> Male\n"
     ]
    }
   ],
   "source": [
    "# Example 2\n",
    "student = {1: {'name': 'Roham', 'age': '19', 'gender': 'Male'},\n",
    "          2: {'name': 'Monika', 'age': '20', 'gender': 'Female'}}\n",
    "\n",
    "print(\"student[1]['name']   -->\", student[1]['name'])\n",
    "print(\"student[1]['age']    -->\", student[1]['age'])\n",
    "print(\"student[1]['gender'] -->\", student[1]['gender'])\n"
   ]
  }
 ],
 "metadata": {
  "colab": {
   "collapsed_sections": [],
   "name": "BasicsOfPython.ipynb",
   "provenance": []
  },
  "kernelspec": {
   "display_name": "Python 3",
   "language": "python",
   "name": "python3"
  },
  "language_info": {
   "codemirror_mode": {
    "name": "ipython",
    "version": 3
   },
   "file_extension": ".py",
   "mimetype": "text/x-python",
   "name": "python",
   "nbconvert_exporter": "python",
   "pygments_lexer": "ipython3",
   "version": "3.7.3"
  }
 },
 "nbformat": 4,
 "nbformat_minor": 1
}
